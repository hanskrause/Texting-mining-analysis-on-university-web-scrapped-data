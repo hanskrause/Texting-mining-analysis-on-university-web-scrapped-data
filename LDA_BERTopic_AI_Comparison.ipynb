{
 "cells": [
  {
   "cell_type": "markdown",
   "id": "882f7b5e",
   "metadata": {},
   "source": [
    "# Comparative Analysis: AI Keyword Density, LDA vs BERTopic\n",
    "This notebook performs AI keyword density analysis, LDA and BERTopic topic modeling on multiple document sets and compares their results."
   ]
  },
  {
   "cell_type": "markdown",
   "id": "3c4c8c40",
   "metadata": {},
   "source": [
    "## 1. Setup & Imports"
   ]
  },
  {
   "cell_type": "code",
   "execution_count": 2,
   "id": "939e072b",
   "metadata": {},
   "outputs": [],
   "source": [
    "import os\n",
    "import re\n",
    "import warnings\n",
    "from tqdm import tqdm\n",
    "import numpy as np\n",
    "import pandas as pd\n",
    "import matplotlib.pyplot as plt\n",
    "\n",
    "# NLP & Topic Modeling\n",
    "import nltk\n",
    "from nltk.corpus import stopwords\n",
    "from nltk.tokenize import word_tokenize\n",
    "\n",
    "from gensim import corpora, models\n",
    "from gensim.models import CoherenceModel\n",
    "\n",
    "from bertopic import BERTopic\n",
    "\n",
    "# Ensure UTF-8 output\n",
    "import sys\n",
    "os.environ['PYTHONUTF8'] = '1'\n",
    "if hasattr(sys.stdout, 'reconfigure'):\n",
    "    sys.stdout.reconfigure(encoding='utf-8')\n",
    "warnings.filterwarnings('ignore')\n"
   ]
  },
  {
   "cell_type": "markdown",
   "id": "e518f4a2",
   "metadata": {},
   "source": [
    "## 2. NLTK Data Download"
   ]
  },
  {
   "cell_type": "code",
   "execution_count": 3,
   "id": "c18c33c3",
   "metadata": {},
   "outputs": [
    {
     "data": {
      "text/plain": [
       "True"
      ]
     },
     "execution_count": 3,
     "metadata": {},
     "output_type": "execute_result"
    }
   ],
   "source": [
    "nltk.download('punkt', quiet=True)\n",
    "nltk.download('stopwords', quiet=True)\n"
   ]
  },
  {
   "cell_type": "markdown",
   "id": "8852f677",
   "metadata": {},
   "source": [
    "## 3. Configuration"
   ]
  },
  {
   "cell_type": "code",
   "execution_count": 4,
   "id": "4f6f1272",
   "metadata": {},
   "outputs": [],
   "source": [
    "# Paths to datasets\n",
    "FOLDER_PATHS = {\n",
    "    \"Part 1\": r\"C:\\Users\\91756\\Downloads\\Master_thesis\\Parsed_Content\\Parsed_Content\\parsed_content_links_list_part_1\",\n",
    "    \"Part 2\": r\"C:\\Users\\91756\\Downloads\\Master_thesis\\Parsed_Content\\Parsed_Content\\parsed_content_links_list_part_2\",\n",
    "    \"Part 3\": r\"C:\\Users\\91756\\Downloads\\Master_thesis\\Parsed_Content\\Parsed_Content\\parsed_content_links_list_part_3\",\n",
    "    \"Part 4\": r\"C:\\Users\\91756\\Downloads\\Master_thesis\\Parsed_Content\\Parsed_Content\\parsed_content_links_list_part_4\"\n",
    "}\n",
    "\n",
    "# LDA parameters\n",
    "NUM_TOPICS = 8\n",
    "LDA_PASSES = 10\n",
    "\n",
    "# AI Keywords for density analysis\n",
    "AI_KEYWORDS = {\n",
    "    \"ai\", \"artificial intelligence\", \"machine learning\", \"deep learning\", \"neural network\", \"generative ai\",\n",
    "    \"supervised learning\", \"unsupervised learning\", \"reinforcement learning\", \"transfer learning\",\n",
    "    \"federated learning\", \"attention mechanism\", \"llm\", \"gpt\", \"bert\", \"diffusion model\", \"gan\", \"rnn\", \"cnn\",\n",
    "    \"vlm\", \"gpt-4v\", \"llava\", \"nlp\", \"computer vision\", \"speech recognition\", \"autonomous systems\",\n",
    "    \"recommender system\", \"robotic process automation\", \"tensorflow\", \"pytorch\", \"keras\", \"huggingface\",\n",
    "    \"langchain\", \"openai\", \"anthropic\", \"mistral ai\", \"agi\", \"multimodal ai\", \"few-shot learning\",\n",
    "    \"prompt engineering\", \"retrieval-augmented generation\", \"ai agents\", \"autonomous agents\",\n",
    "    \"multi-agent systems\", \"embodied ai\", \"agent tool use\", \"llamaindex\", \"crewai\", \"autogen\", \"agentops\",\n",
    "    \"semantic kernel\", \"haystack\", \"weaviate\", \"pinecone\", \"qdrant\", \"chroma\", \"transformers\", \"peft\",\n",
    "    \"fastapi\", \"gradio\", \"streamlit\", \"guardrails\", \"rebuff\", \"guidance\", \"openai api\", \"gpt-4\",\n",
    "    \"gpt-4-turbo\", \"embeddings\", \"moderation\", \"anthropic claude api\", \"claude 3\", \"google vertex ai\",\n",
    "    \"palm 2\", \"gemini\", \"mistral ai api\", \"mistral 7b\", \"mixtral 8x7b\", \"cohere api\", \"command-r\",\n",
    "    \"meta llama api\", \"llama 2\", \"llama 3\", \"perplexity api\", \"openai gpt-4v\", \"google gemini api\",\n",
    "    \"anthropic claude 3 vision\", \"huggingface inference api\", \"blip-2\", \"llava\", \"openai whisper\",\n",
    "    \"elevenlabs\", \"deepgram\", \"assemblyai\", \"google cloud vision\", \"aws rekognition\",\n",
    "    \"azure computer vision\", \"roboflow\", \"openai embeddings\", \"cohere embed\", \"langchain api\",\n",
    "    \"stability ai\", \"microsoft semantic kernel\"\n",
    "}\n"
   ]
  },
  {
   "cell_type": "markdown",
   "id": "26ccc5da",
   "metadata": {},
   "source": [
    "## 4. Preprocessing Function"
   ]
  },
  {
   "cell_type": "code",
   "execution_count": 5,
   "id": "e68737eb",
   "metadata": {},
   "outputs": [],
   "source": [
    "def preprocess_text(text):\n",
    "    \"\"\"Lowercase, remove non-alpha, tokenize, remove stopwords.\"\"\"\n",
    "    text = text.lower() if isinstance(text, str) else ''\n",
    "    text = re.sub(r'[^a-zA-Z\\s]', '', text)\n",
    "    tokens = word_tokenize(text)\n",
    "    stops = set(stopwords.words('english'))\n",
    "    return [w for w in tokens if w not in stops and len(w) > 1]\n"
   ]
  },
  {
   "cell_type": "markdown",
   "id": "32a6823e",
   "metadata": {},
   "source": [
    "## 5. Load Documents"
   ]
  },
  {
   "cell_type": "code",
   "execution_count": 6,
   "id": "b4c9a67a",
   "metadata": {},
   "outputs": [
    {
     "name": "stdout",
     "output_type": "stream",
     "text": [
      "Loaded 4370 documents for Part 1\n",
      "Loaded 4015 documents for Part 2\n",
      "Loaded 4359 documents for Part 3\n",
      "Loaded 4396 documents for Part 4\n"
     ]
    }
   ],
   "source": [
    "# Load raw text for each folder\n",
    "documents_by_folder = {}\n",
    "for label, path in FOLDER_PATHS.items():\n",
    "    docs = []\n",
    "    for fname in os.listdir(path):\n",
    "        if fname.lower().endswith('.txt'):\n",
    "            with open(os.path.join(path, fname), 'r', encoding='utf-8', errors='ignore') as f:\n",
    "                docs.append(f.read())\n",
    "    documents_by_folder[label] = docs\n",
    "    print(f\"Loaded {len(docs)} documents for {label}\")\n"
   ]
  },
  {
   "cell_type": "markdown",
   "id": "4c8b768b",
   "metadata": {},
   "source": [
    "## 6. AI Keyword Density Analysis"
   ]
  },
  {
   "cell_type": "code",
   "execution_count": 7,
   "id": "4cfb33bc",
   "metadata": {},
   "outputs": [
    {
     "name": "stdout",
     "output_type": "stream",
     "text": [
      "Part 1: Mean AI density = 1.21%, Median = 0.17%\n",
      "Part 2: Mean AI density = 1.29%, Median = 0.22%\n",
      "Part 3: Mean AI density = 1.25%, Median = 0.22%\n",
      "Part 4: Mean AI density = 1.27%, Median = 0.20%\n"
     ]
    }
   ],
   "source": [
    "def analyze_ai_density(text):\n",
    "    words = preprocess_text(text)\n",
    "    if not words:\n",
    "        return 0.0\n",
    "    ai_count = sum(1 for w in words if w in AI_KEYWORDS)\n",
    "    return ai_count / len(words) * 100\n",
    "\n",
    "# Compute per-folder AI % distributions\n",
    "ai_density_results = {}\n",
    "for label, docs in documents_by_folder.items():\n",
    "    densities = [analyze_ai_density(doc) for doc in docs]\n",
    "    ai_density_results[label] = densities\n",
    "    print(f\"{label}: Mean AI density = {np.mean(densities):.2f}%, Median = {np.median(densities):.2f}%\")\n"
   ]
  },
  {
   "cell_type": "markdown",
   "id": "b28d8d81",
   "metadata": {},
   "source": [
    "## 7. LDA Topic Modeling"
   ]
  },
  {
   "cell_type": "code",
   "execution_count": 8,
   "id": "a810fd7e",
   "metadata": {},
   "outputs": [
    {
     "name": "stdout",
     "output_type": "stream",
     "text": [
      "Part 1 LDA coherence: 0.5889\n",
      "Topic 0: 0.008*\"research\" + 0.008*\"students\" + 0.007*\"ai\" + 0.006*\"university\" + 0.006*\"learning\" + 0.006*\"business\" + 0.006*\"teaching\" + 0.005*\"education\" + 0.005*\"program\" + 0.005*\"student\"\n",
      "Topic 1: 0.020*\"course\" + 0.013*\"law\" + 0.013*\"students\" + 0.007*\"credit\" + 0.006*\"class\" + 0.006*\"hours\" + 0.005*\"must\" + 0.005*\"student\" + 0.005*\"writing\" + 0.005*\"academic\"\n",
      "Topic 2: 0.020*\"reply\" + 0.016*\"pm\" + 0.006*\"february\" + 0.005*\"get\" + 0.005*\"like\" + 0.005*\"people\" + 0.005*\"january\" + 0.004*\"november\" + 0.004*\"october\" + 0.004*\"really\"\n",
      "Topic 3: 0.011*\"information\" + 0.008*\"use\" + 0.007*\"data\" + 0.007*\"email\" + 0.007*\"university\" + 0.006*\"access\" + 0.005*\"title\" + 0.005*\"resources\" + 0.005*\"url\" + 0.004*\"available\"\n",
      "Topic 4: 0.016*\"ai\" + 0.007*\"use\" + 0.006*\"models\" + 0.005*\"data\" + 0.005*\"learning\" + 0.005*\"work\" + 0.004*\"also\" + 0.004*\"students\" + 0.004*\"language\" + 0.004*\"model\"\n",
      "Topic 5: 0.062*\"page\" + 0.061*\"images\" + 0.060*\"hathitrust\" + 0.021*\"de\" + 0.008*\"history\" + 0.008*\"la\" + 0.006*\"et\" + 0.006*\"des\" + 0.006*\"der\" + 0.006*\"co\"\n",
      "Topic 6: 0.011*\"professor\" + 0.011*\"science\" + 0.010*\"engineering\" + 0.008*\"university\" + 0.008*\"computer\" + 0.007*\"research\" + 0.006*\"systems\" + 0.006*\"learning\" + 0.006*\"data\" + 0.006*\"phd\"\n",
      "Topic 7: 0.004*\"water\" + 0.004*\"one\" + 0.003*\"two\" + 0.003*\"said\" + 0.003*\"would\" + 0.002*\"time\" + 0.002*\"tho\" + 0.002*\"first\" + 0.002*\"county\" + 0.002*\"may\"\n",
      "\n",
      "Part 2 LDA coherence: 0.5311\n",
      "Topic 0: 0.019*\"students\" + 0.016*\"course\" + 0.010*\"ai\" + 0.010*\"use\" + 0.009*\"may\" + 0.009*\"student\" + 0.009*\"work\" + 0.007*\"learning\" + 0.007*\"information\" + 0.006*\"code\"\n",
      "Topic 1: 0.020*\"page\" + 0.018*\"images\" + 0.017*\"hathitrust\" + 0.012*\"pm\" + 0.008*\"university\" + 0.007*\"us\" + 0.006*\"de\" + 0.006*\"states\" + 0.006*\"united\" + 0.006*\"library\"\n",
      "Topic 2: 0.014*\"communication\" + 0.013*\"learn\" + 0.013*\"research\" + 0.012*\"read\" + 0.010*\"public\" + 0.010*\"media\" + 0.009*\"advertising\" + 0.009*\"students\" + 0.007*\"university\" + 0.007*\"health\"\n",
      "Topic 3: 0.013*\"engineering\" + 0.012*\"data\" + 0.012*\"science\" + 0.009*\"professor\" + 0.008*\"research\" + 0.008*\"ai\" + 0.007*\"learning\" + 0.007*\"systems\" + 0.007*\"model\" + 0.006*\"computer\"\n",
      "Topic 4: 0.010*\"site\" + 0.009*\"web\" + 0.008*\"pm\" + 0.007*\"also\" + 0.006*\"page\" + 0.006*\"blog\" + 0.006*\"business\" + 0.006*\"visit\" + 0.006*\"ai\" + 0.005*\"free\"\n",
      "Topic 5: 0.013*\"article\" + 0.007*\"date\" + 0.007*\"published\" + 0.006*\"featured\" + 0.006*\"go\" + 0.006*\"health\" + 0.005*\"pubmed\" + 0.005*\"pmid\" + 0.004*\"journal\" + 0.004*\"view\"\n",
      "Topic 6: 0.007*\"ai\" + 0.005*\"one\" + 0.005*\"people\" + 0.004*\"like\" + 0.004*\"time\" + 0.004*\"business\" + 0.004*\"also\" + 0.004*\"white\" + 0.004*\"us\" + 0.004*\"know\"\n",
      "Topic 7: 0.026*\"cancer\" + 0.026*\"maughan\" + 0.019*\"bl\" + 0.018*\"read\" + 0.018*\"full\" + 0.018*\"article\" + 0.015*\"prostate\" + 0.013*\"agarwal\" + 0.010*\"center\" + 0.010*\"metastatic\"\n",
      "\n",
      "Part 3 LDA coherence: 0.5745\n",
      "Topic 0: 0.014*\"students\" + 0.008*\"course\" + 0.007*\"learning\" + 0.006*\"research\" + 0.006*\"university\" + 0.006*\"student\" + 0.005*\"data\" + 0.005*\"information\" + 0.005*\"program\" + 0.005*\"faculty\"\n",
      "Topic 1: 0.055*\"page\" + 0.051*\"images\" + 0.049*\"hathitrust\" + 0.011*\"de\" + 0.009*\"us\" + 0.006*\"london\" + 0.006*\"states\" + 0.006*\"united\" + 0.005*\"la\" + 0.005*\"access\"\n",
      "Topic 2: 0.016*\"ai\" + 0.005*\"use\" + 0.005*\"people\" + 0.005*\"one\" + 0.005*\"like\" + 0.004*\"also\" + 0.004*\"work\" + 0.004*\"think\" + 0.004*\"know\" + 0.003*\"time\"\n",
      "Topic 3: 0.006*\"engineering\" + 0.006*\"view\" + 0.005*\"data\" + 0.004*\"pubmed\" + 0.004*\"science\" + 0.003*\"professor\" + 0.003*\"using\" + 0.003*\"analysis\" + 0.003*\"study\" + 0.003*\"mathtypemtef\"\n",
      "Topic 4: 0.018*\"al\" + 0.017*\"et\" + 0.015*\"pubmed\" + 0.015*\"id\" + 0.013*\"file\" + 0.013*\"structure\" + 0.013*\"data\" + 0.012*\"doi\" + 0.012*\"viewer\" + 0.011*\"jmol\"\n",
      "Topic 5: 0.012*\"research\" + 0.007*\"university\" + 0.007*\"professor\" + 0.006*\"science\" + 0.005*\"information\" + 0.005*\"school\" + 0.005*\"education\" + 0.005*\"health\" + 0.004*\"ai\" + 0.004*\"social\"\n",
      "Topic 6: 0.019*\"university\" + 0.011*\"learning\" + 0.011*\"conference\" + 0.010*\"data\" + 0.008*\"systems\" + 0.007*\"models\" + 0.007*\"computer\" + 0.007*\"networks\" + 0.007*\"wang\" + 0.006*\"international\"\n",
      "Topic 7: 0.015*\"course\" + 0.013*\"writing\" + 0.008*\"students\" + 0.008*\"united\" + 0.007*\"states\" + 0.006*\"online\" + 0.005*\"certificate\" + 0.005*\"english\" + 0.005*\"management\" + 0.005*\"engl\"\n",
      "\n",
      "Part 4 LDA coherence: 0.5166\n",
      "Topic 0: 0.007*\"ai\" + 0.005*\"one\" + 0.005*\"also\" + 0.004*\"like\" + 0.004*\"people\" + 0.004*\"new\" + 0.003*\"said\" + 0.003*\"time\" + 0.003*\"could\" + 0.003*\"would\"\n",
      "Topic 1: 0.028*\"page\" + 0.020*\"images\" + 0.019*\"hathitrust\" + 0.016*\"thesis\" + 0.010*\"london\" + 0.010*\"printed\" + 0.009*\"adviser\" + 0.008*\"html\" + 0.008*\"england\" + 0.008*\"tcp\"\n",
      "Topic 2: 0.007*\"dot\" + 0.003*\"th\" + 0.003*\"com\" + 0.003*\"one\" + 0.003*\"would\" + 0.002*\"la\" + 0.002*\"john\" + 0.002*\"home\" + 0.002*\"reply\" + 0.002*\"de\"\n",
      "Topic 3: 0.013*\"research\" + 0.013*\"university\" + 0.013*\"professor\" + 0.012*\"engineering\" + 0.012*\"science\" + 0.011*\"college\" + 0.009*\"education\" + 0.009*\"school\" + 0.008*\"health\" + 0.007*\"faculty\"\n",
      "Topic 4: 0.022*\"ai\" + 0.012*\"students\" + 0.009*\"use\" + 0.008*\"learning\" + 0.007*\"generative\" + 0.006*\"tools\" + 0.006*\"information\" + 0.006*\"course\" + 0.005*\"teaching\" + 0.005*\"student\"\n",
      "Topic 5: 0.013*\"students\" + 0.013*\"course\" + 0.008*\"law\" + 0.005*\"policy\" + 0.005*\"credit\" + 0.005*\"business\" + 0.004*\"may\" + 0.004*\"student\" + 0.004*\"class\" + 0.004*\"international\"\n",
      "Topic 6: 0.017*\"data\" + 0.013*\"systems\" + 0.009*\"learning\" + 0.009*\"research\" + 0.009*\"pdf\" + 0.008*\"science\" + 0.008*\"information\" + 0.008*\"computer\" + 0.006*\"conference\" + 0.006*\"intelligence\"\n",
      "Topic 7: 0.014*\"program\" + 0.013*\"career\" + 0.009*\"job\" + 0.009*\"application\" + 0.006*\"experience\" + 0.005*\"apply\" + 0.005*\"skills\" + 0.005*\"students\" + 0.005*\"please\" + 0.004*\"degree\"\n",
      "\n"
     ]
    }
   ],
   "source": [
    "from gensim import corpora\n",
    "\n",
    "lda_results = {}\n",
    "for label, docs in documents_by_folder.items():\n",
    "    texts = [preprocess_text(doc) for doc in docs]\n",
    "    dictionary = corpora.Dictionary(texts)\n",
    "    corpus = [dictionary.doc2bow(text) for text in texts]\n",
    "    lda = models.LdaModel(corpus, id2word=dictionary, num_topics=NUM_TOPICS, passes=LDA_PASSES)\n",
    "    coherence = CoherenceModel(model=lda, texts=texts, dictionary=dictionary, coherence='c_v').get_coherence()\n",
    "    topics = lda.print_topics(num_topics=NUM_TOPICS)\n",
    "    lda_results[label] = {'coherence': coherence, 'topics': topics}\n",
    "    print(f\"{label} LDA coherence: {coherence:.4f}\")\n",
    "    for tid, tstr in topics:\n",
    "        print(f\"Topic {tid}: {tstr}\")\n",
    "    print()\n"
   ]
  },
  {
   "cell_type": "markdown",
   "id": "719f8146",
   "metadata": {},
   "source": [
    "## 8. BERTopic Modeling"
   ]
  },
  {
   "cell_type": "code",
   "execution_count": 9,
   "id": "ca7ed6fb",
   "metadata": {},
   "outputs": [
    {
     "name": "stdout",
     "output_type": "stream",
     "text": [
      "Part 1 BERTopic extracted 2 topics\n"
     ]
    },
    {
     "data": {
      "text/html": [
       "<div>\n",
       "<style scoped>\n",
       "    .dataframe tbody tr th:only-of-type {\n",
       "        vertical-align: middle;\n",
       "    }\n",
       "\n",
       "    .dataframe tbody tr th {\n",
       "        vertical-align: top;\n",
       "    }\n",
       "\n",
       "    .dataframe thead th {\n",
       "        text-align: right;\n",
       "    }\n",
       "</style>\n",
       "<table border=\"1\" class=\"dataframe\">\n",
       "  <thead>\n",
       "    <tr style=\"text-align: right;\">\n",
       "      <th></th>\n",
       "      <th>Topic</th>\n",
       "      <th>Count</th>\n",
       "      <th>Name</th>\n",
       "      <th>Representation</th>\n",
       "      <th>Representative_Docs</th>\n",
       "    </tr>\n",
       "  </thead>\n",
       "  <tbody>\n",
       "    <tr>\n",
       "      <th>0</th>\n",
       "      <td>-1</td>\n",
       "      <td>1983</td>\n",
       "      <td>-1_the_and_of_to</td>\n",
       "      <td>[the, and, of, to, by, at, page, images, hathi...</td>\n",
       "      <td>[URL: http://eric-lab.soe.ucsc.edu/ACLtool\\nTi...</td>\n",
       "    </tr>\n",
       "    <tr>\n",
       "      <th>1</th>\n",
       "      <td>0</td>\n",
       "      <td>2373</td>\n",
       "      <td>0_the_and_of_to</td>\n",
       "      <td>[the, and, of, to, in, for, on, is, at, with]</td>\n",
       "      <td>[URL: https://cps.uga.edu/index.php/data-scien...</td>\n",
       "    </tr>\n",
       "    <tr>\n",
       "      <th>2</th>\n",
       "      <td>1</td>\n",
       "      <td>14</td>\n",
       "      <td>1_annotations_files_alignments_genome</td>\n",
       "      <td>[annotations, files, alignments, genome, etc, ...</td>\n",
       "      <td>[URL: https://digital.wpi.edu/catalog?f%5Bmemb...</td>\n",
       "    </tr>\n",
       "  </tbody>\n",
       "</table>\n",
       "</div>"
      ],
      "text/plain": [
       "   Topic  Count                                   Name  \\\n",
       "0     -1   1983                       -1_the_and_of_to   \n",
       "1      0   2373                        0_the_and_of_to   \n",
       "2      1     14  1_annotations_files_alignments_genome   \n",
       "\n",
       "                                      Representation  \\\n",
       "0  [the, and, of, to, by, at, page, images, hathi...   \n",
       "1      [the, and, of, to, in, for, on, is, at, with]   \n",
       "2  [annotations, files, alignments, genome, etc, ...   \n",
       "\n",
       "                                 Representative_Docs  \n",
       "0  [URL: http://eric-lab.soe.ucsc.edu/ACLtool\\nTi...  \n",
       "1  [URL: https://cps.uga.edu/index.php/data-scien...  \n",
       "2  [URL: https://digital.wpi.edu/catalog?f%5Bmemb...  "
      ]
     },
     "metadata": {},
     "output_type": "display_data"
    },
    {
     "name": "stdout",
     "output_type": "stream",
     "text": [
      "Part 2 BERTopic extracted 2 topics\n"
     ]
    },
    {
     "data": {
      "text/html": [
       "<div>\n",
       "<style scoped>\n",
       "    .dataframe tbody tr th:only-of-type {\n",
       "        vertical-align: middle;\n",
       "    }\n",
       "\n",
       "    .dataframe tbody tr th {\n",
       "        vertical-align: top;\n",
       "    }\n",
       "\n",
       "    .dataframe thead th {\n",
       "        text-align: right;\n",
       "    }\n",
       "</style>\n",
       "<table border=\"1\" class=\"dataframe\">\n",
       "  <thead>\n",
       "    <tr style=\"text-align: right;\">\n",
       "      <th></th>\n",
       "      <th>Topic</th>\n",
       "      <th>Count</th>\n",
       "      <th>Name</th>\n",
       "      <th>Representation</th>\n",
       "      <th>Representative_Docs</th>\n",
       "    </tr>\n",
       "  </thead>\n",
       "  <tbody>\n",
       "    <tr>\n",
       "      <th>0</th>\n",
       "      <td>-1</td>\n",
       "      <td>2536</td>\n",
       "      <td>-1_the_and_of_to</td>\n",
       "      <td>[the, and, of, to, in, for, is, that, by, on]</td>\n",
       "      <td>[URL: https://www.heinz.cmu.edu/media/2023/Jul...</td>\n",
       "    </tr>\n",
       "    <tr>\n",
       "      <th>1</th>\n",
       "      <td>0</td>\n",
       "      <td>1458</td>\n",
       "      <td>0_the_and_of_to</td>\n",
       "      <td>[the, and, of, to, in, for, that, you, is, with]</td>\n",
       "      <td>[URL: https://samueli.ucla.edu/ucla-samueli-in...</td>\n",
       "    </tr>\n",
       "    <tr>\n",
       "      <th>2</th>\n",
       "      <td>1</td>\n",
       "      <td>21</td>\n",
       "      <td>1_the_to_of_ai</td>\n",
       "      <td>[the, to, of, ai, and, in, is, that, for, are]</td>\n",
       "      <td>[URL: https://insights.sei.cmu.edu/blog/contex...</td>\n",
       "    </tr>\n",
       "  </tbody>\n",
       "</table>\n",
       "</div>"
      ],
      "text/plain": [
       "   Topic  Count              Name  \\\n",
       "0     -1   2536  -1_the_and_of_to   \n",
       "1      0   1458   0_the_and_of_to   \n",
       "2      1     21    1_the_to_of_ai   \n",
       "\n",
       "                                     Representation  \\\n",
       "0     [the, and, of, to, in, for, is, that, by, on]   \n",
       "1  [the, and, of, to, in, for, that, you, is, with]   \n",
       "2    [the, to, of, ai, and, in, is, that, for, are]   \n",
       "\n",
       "                                 Representative_Docs  \n",
       "0  [URL: https://www.heinz.cmu.edu/media/2023/Jul...  \n",
       "1  [URL: https://samueli.ucla.edu/ucla-samueli-in...  \n",
       "2  [URL: https://insights.sei.cmu.edu/blog/contex...  "
      ]
     },
     "metadata": {},
     "output_type": "display_data"
    },
    {
     "name": "stdout",
     "output_type": "stream",
     "text": [
      "Part 3 BERTopic extracted 2 topics\n"
     ]
    },
    {
     "data": {
      "text/html": [
       "<div>\n",
       "<style scoped>\n",
       "    .dataframe tbody tr th:only-of-type {\n",
       "        vertical-align: middle;\n",
       "    }\n",
       "\n",
       "    .dataframe tbody tr th {\n",
       "        vertical-align: top;\n",
       "    }\n",
       "\n",
       "    .dataframe thead th {\n",
       "        text-align: right;\n",
       "    }\n",
       "</style>\n",
       "<table border=\"1\" class=\"dataframe\">\n",
       "  <thead>\n",
       "    <tr style=\"text-align: right;\">\n",
       "      <th></th>\n",
       "      <th>Topic</th>\n",
       "      <th>Count</th>\n",
       "      <th>Name</th>\n",
       "      <th>Representation</th>\n",
       "      <th>Representative_Docs</th>\n",
       "    </tr>\n",
       "  </thead>\n",
       "  <tbody>\n",
       "    <tr>\n",
       "      <th>0</th>\n",
       "      <td>-1</td>\n",
       "      <td>1986</td>\n",
       "      <td>-1_the_and_of_to</td>\n",
       "      <td>[the, and, of, to, in, for, by, at, page, images]</td>\n",
       "      <td>[URL: https://www.niu.edu/citl/resources/guide...</td>\n",
       "    </tr>\n",
       "    <tr>\n",
       "      <th>1</th>\n",
       "      <td>0</td>\n",
       "      <td>2356</td>\n",
       "      <td>0_the_and_of_to</td>\n",
       "      <td>[the, and, of, to, in, for, that, is, you, with]</td>\n",
       "      <td>[URL: https://www.bgsu.edu/provost/news-and-an...</td>\n",
       "    </tr>\n",
       "    <tr>\n",
       "      <th>2</th>\n",
       "      <td>1</td>\n",
       "      <td>17</td>\n",
       "      <td>1_privacy_agree_to_commitment</td>\n",
       "      <td>[privacy, agree, to, commitment, vcus, commonw...</td>\n",
       "      <td>[URL: https://go.vcu.edu/ai\\nTitle: Commitment...</td>\n",
       "    </tr>\n",
       "  </tbody>\n",
       "</table>\n",
       "</div>"
      ],
      "text/plain": [
       "   Topic  Count                           Name  \\\n",
       "0     -1   1986               -1_the_and_of_to   \n",
       "1      0   2356                0_the_and_of_to   \n",
       "2      1     17  1_privacy_agree_to_commitment   \n",
       "\n",
       "                                      Representation  \\\n",
       "0  [the, and, of, to, in, for, by, at, page, images]   \n",
       "1   [the, and, of, to, in, for, that, is, you, with]   \n",
       "2  [privacy, agree, to, commitment, vcus, commonw...   \n",
       "\n",
       "                                 Representative_Docs  \n",
       "0  [URL: https://www.niu.edu/citl/resources/guide...  \n",
       "1  [URL: https://www.bgsu.edu/provost/news-and-an...  \n",
       "2  [URL: https://go.vcu.edu/ai\\nTitle: Commitment...  "
      ]
     },
     "metadata": {},
     "output_type": "display_data"
    },
    {
     "name": "stdout",
     "output_type": "stream",
     "text": [
      "Part 4 BERTopic extracted 2 topics\n"
     ]
    },
    {
     "data": {
      "text/html": [
       "<div>\n",
       "<style scoped>\n",
       "    .dataframe tbody tr th:only-of-type {\n",
       "        vertical-align: middle;\n",
       "    }\n",
       "\n",
       "    .dataframe tbody tr th {\n",
       "        vertical-align: top;\n",
       "    }\n",
       "\n",
       "    .dataframe thead th {\n",
       "        text-align: right;\n",
       "    }\n",
       "</style>\n",
       "<table border=\"1\" class=\"dataframe\">\n",
       "  <thead>\n",
       "    <tr style=\"text-align: right;\">\n",
       "      <th></th>\n",
       "      <th>Topic</th>\n",
       "      <th>Count</th>\n",
       "      <th>Name</th>\n",
       "      <th>Representation</th>\n",
       "      <th>Representative_Docs</th>\n",
       "    </tr>\n",
       "  </thead>\n",
       "  <tbody>\n",
       "    <tr>\n",
       "      <th>0</th>\n",
       "      <td>-1</td>\n",
       "      <td>1464</td>\n",
       "      <td>-1_the_and_of_to</td>\n",
       "      <td>[the, and, of, to, in, for, is, on, that, with]</td>\n",
       "      <td>[URL: https://www.unlv.edu/policies/instructor...</td>\n",
       "    </tr>\n",
       "    <tr>\n",
       "      <th>1</th>\n",
       "      <td>0</td>\n",
       "      <td>2904</td>\n",
       "      <td>0_the_and_of_to</td>\n",
       "      <td>[the, and, of, to, in, for, is, with, that, on]</td>\n",
       "      <td>[URL: https://curriculum.law.georgetown.edu/ll...</td>\n",
       "    </tr>\n",
       "    <tr>\n",
       "      <th>2</th>\n",
       "      <td>1</td>\n",
       "      <td>28</td>\n",
       "      <td>1_privacy_agree_commitment_to</td>\n",
       "      <td>[privacy, agree, commitment, to, vcus, cookies...</td>\n",
       "      <td>[URL: https://graduate.vcu.edu/\\nTitle: Commit...</td>\n",
       "    </tr>\n",
       "  </tbody>\n",
       "</table>\n",
       "</div>"
      ],
      "text/plain": [
       "   Topic  Count                           Name  \\\n",
       "0     -1   1464               -1_the_and_of_to   \n",
       "1      0   2904                0_the_and_of_to   \n",
       "2      1     28  1_privacy_agree_commitment_to   \n",
       "\n",
       "                                      Representation  \\\n",
       "0    [the, and, of, to, in, for, is, on, that, with]   \n",
       "1    [the, and, of, to, in, for, is, with, that, on]   \n",
       "2  [privacy, agree, commitment, to, vcus, cookies...   \n",
       "\n",
       "                                 Representative_Docs  \n",
       "0  [URL: https://www.unlv.edu/policies/instructor...  \n",
       "1  [URL: https://curriculum.law.georgetown.edu/ll...  \n",
       "2  [URL: https://graduate.vcu.edu/\\nTitle: Commit...  "
      ]
     },
     "metadata": {},
     "output_type": "display_data"
    }
   ],
   "source": [
    "bertopic_results = {}\n",
    "for label, docs in documents_by_folder.items():\n",
    "    topic_model = BERTopic(verbose=False)\n",
    "    topics, probs = topic_model.fit_transform(docs)\n",
    "    info = topic_model.get_topic_info()\n",
    "    n_topics = info.shape[0] - 1  # exclude -1\n",
    "    bertopic_results[label] = {'n_topics': n_topics, 'info': info}\n",
    "    print(f\"{label} BERTopic extracted {n_topics} topics\")\n",
    "    display(info.head(5))\n"
   ]
  },
  {
   "cell_type": "markdown",
   "id": "8bdf06dd",
   "metadata": {},
   "source": [
    "## 9. Comparison of Results"
   ]
  },
  {
   "cell_type": "code",
   "execution_count": 10,
   "id": "442a943c",
   "metadata": {},
   "outputs": [
    {
     "data": {
      "text/html": [
       "<div>\n",
       "<style scoped>\n",
       "    .dataframe tbody tr th:only-of-type {\n",
       "        vertical-align: middle;\n",
       "    }\n",
       "\n",
       "    .dataframe tbody tr th {\n",
       "        vertical-align: top;\n",
       "    }\n",
       "\n",
       "    .dataframe thead th {\n",
       "        text-align: right;\n",
       "    }\n",
       "</style>\n",
       "<table border=\"1\" class=\"dataframe\">\n",
       "  <thead>\n",
       "    <tr style=\"text-align: right;\">\n",
       "      <th></th>\n",
       "      <th>Mean_AI_Density</th>\n",
       "      <th>LDA_Coherence</th>\n",
       "      <th>BERTopic_Topics</th>\n",
       "      <th>Total_Docs</th>\n",
       "    </tr>\n",
       "    <tr>\n",
       "      <th>Folder</th>\n",
       "      <th></th>\n",
       "      <th></th>\n",
       "      <th></th>\n",
       "      <th></th>\n",
       "    </tr>\n",
       "  </thead>\n",
       "  <tbody>\n",
       "    <tr>\n",
       "      <th>Part 1</th>\n",
       "      <td>1.206465</td>\n",
       "      <td>0.588856</td>\n",
       "      <td>2</td>\n",
       "      <td>4370</td>\n",
       "    </tr>\n",
       "    <tr>\n",
       "      <th>Part 2</th>\n",
       "      <td>1.291634</td>\n",
       "      <td>0.531084</td>\n",
       "      <td>2</td>\n",
       "      <td>4015</td>\n",
       "    </tr>\n",
       "    <tr>\n",
       "      <th>Part 3</th>\n",
       "      <td>1.247844</td>\n",
       "      <td>0.574501</td>\n",
       "      <td>2</td>\n",
       "      <td>4359</td>\n",
       "    </tr>\n",
       "    <tr>\n",
       "      <th>Part 4</th>\n",
       "      <td>1.269424</td>\n",
       "      <td>0.516617</td>\n",
       "      <td>2</td>\n",
       "      <td>4396</td>\n",
       "    </tr>\n",
       "  </tbody>\n",
       "</table>\n",
       "</div>"
      ],
      "text/plain": [
       "        Mean_AI_Density  LDA_Coherence  BERTopic_Topics  Total_Docs\n",
       "Folder                                                             \n",
       "Part 1         1.206465       0.588856                2        4370\n",
       "Part 2         1.291634       0.531084                2        4015\n",
       "Part 3         1.247844       0.574501                2        4359\n",
       "Part 4         1.269424       0.516617                2        4396"
      ]
     },
     "metadata": {},
     "output_type": "display_data"
    }
   ],
   "source": [
    "# Build comparison table\n",
    "compare = pd.DataFrame([\n",
    "    {\n",
    "        'Folder': label,\n",
    "        'Mean_AI_Density': np.mean(ai_density_results[label]),\n",
    "        'LDA_Coherence': lda_results[label]['coherence'],\n",
    "        'BERTopic_Topics': bertopic_results[label]['n_topics'],\n",
    "        'Total_Docs': len(documents_by_folder[label])\n",
    "    }\n",
    "    for label in FOLDER_PATHS\n",
    "]).set_index('Folder')\n",
    "\n",
    "display(compare)\n",
    "compare.to_csv('results/lda_bertopic_ai_comparison.csv')\n"
   ]
  },
  {
   "cell_type": "markdown",
   "id": "4cdd5f4f",
   "metadata": {},
   "source": [
    "## 10. Visualizations"
   ]
  },
  {
   "cell_type": "code",
   "execution_count": 11,
   "id": "d14865d0",
   "metadata": {},
   "outputs": [
    {
     "data": {
      "image/png": "[encoded data removed]",
      "text/plain": [
       "<Figure size 600x400 with 1 Axes>"
      ]
     },
     "metadata": {},
     "output_type": "display_data"
    },
    {
     "data": {
      "image/png": "[encoded data removed]",
      "text/plain": [
       "<Figure size 600x400 with 1 Axes>"
      ]
     },
     "metadata": {},
     "output_type": "display_data"
    },
    {
     "data": {
      "image/png": "[encoded data removed]",
      "text/plain": [
       "<Figure size 600x400 with 1 Axes>"
      ]
     },
     "metadata": {},
     "output_type": "display_data"
    }
   ],
   "source": [
    "# Plot AI Density\n",
    "plt.figure(figsize=(6,4))\n",
    "pd.Series({k: np.mean(v) for k,v in ai_density_results.items()}).plot.bar(color='green')\n",
    "plt.title('Mean AI Keyword Density by Folder')\n",
    "plt.ylabel('AI %')\n",
    "plt.grid(axis='y', alpha=0.3)\n",
    "plt.tight_layout()\n",
    "plt.savefig('results/ai_density_comparison.png')\n",
    "plt.show()\n",
    "\n",
    "# Plot LDA coherence\n",
    "plt.figure(figsize=(6,4))\n",
    "compare['LDA_Coherence'].plot.bar()\n",
    "plt.title('LDA Coherence by Folder')\n",
    "plt.ylabel('Coherence (c_v)')\n",
    "plt.grid(axis='y', alpha=0.3)\n",
    "plt.tight_layout()\n",
    "plt.savefig('results/lda_coherence_comparison.png')\n",
    "plt.show()\n",
    "\n",
    "# Plot BERTopic topic count\n",
    "plt.figure(figsize=(6,4))\n",
    "compare['BERTopic_Topics'].plot.bar(color='orange')\n",
    "plt.title('BERTopic Number of Topics by Folder')\n",
    "plt.ylabel('Number of Topics')\n",
    "plt.grid(axis='y', alpha=0.3)\n",
    "plt.tight_layout()\n",
    "plt.savefig('results/bertopic_count_comparison.png')\n",
    "plt.show()\n"
   ]
  }
 ],
 "metadata": {
  "kernelspec": {
   "display_name": "Python 3 (ipykernel)",
   "language": "python",
   "name": "python3"
  },
  "language_info": {
   "codemirror_mode": {
    "name": "ipython",
    "version": 3
   },
   "file_extension": ".py",
   "mimetype": "text/x-python",
   "name": "python",
   "nbconvert_exporter": "python",
   "pygments_lexer": "ipython3",
   "version": "3.11.4"
  }
 },
 "nbformat": 4,
 "nbformat_minor": 5
}
